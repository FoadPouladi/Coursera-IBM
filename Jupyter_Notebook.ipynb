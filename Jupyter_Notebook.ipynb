{
 "cells": [
  {
   "cell_type": "markdown",
   "metadata": {},
   "source": [
    "<center>\n",
    "    <img src=\"https://cf-courses-data.s3.us.cloud-object-storage.appdomain.cloud/IBMDeveloperSkillsNetwork-DS0105EN-SkillsNetwork/labs/Module2/images/SN_web_lightmode.png\" width=\"300\" alt=\"cognitiveclass.ai logo\">\n",
    "</center>\n"
   ]
  },
  {
   "cell_type": "markdown",
   "metadata": {},
   "source": [
    "#### Add your code below following the instructions given in the course\n"
   ]
  },
  {
   "cell_type": "markdown",
   "metadata": {},
   "source": [
    "\"My Jupyter Notebook on IBM Watson Studio\""
   ]
  },
  {
   "cell_type": "markdown",
   "metadata": {},
   "source": [
    "\"My Name is : **Foad Pouladi**\"\n",
    "I am really interested in continuous learning and working in the field of data science."
   ]
  },
  {
   "cell_type": "markdown",
   "metadata": {},
   "source": [
    "\"*I am interested in data science because:Data science gives me a deep and profound view of the events around me, also makes me see the world much more interesting and attractive than before.*\""
   ]
  },
  {
   "cell_type": "markdown",
   "metadata": {},
   "source": [
    "### My Code in Cell 5 will Calculate great Albert Einstein (E=mc2)\n",
    "E is Energy and Calculate as: mass x speedOfLight squared ,C is Light Speed(which is in meters per second), M is Mass(Kg)."
   ]
  },
  {
   "cell_type": "code",
   "execution_count": 1,
   "metadata": {},
   "outputs": [
    {
     "name": "stdout",
     "output_type": "stream",
     "text": [
      "Enter Mass in Kg:\n",
      ">>>  10.299\n"
     ]
    },
    {
     "name": "stdout",
     "output_type": "stream",
     "text": [
      "E = 925627958581048448 kg*(m/s)2\n"
     ]
    }
   ],
   "source": [
    "CSpeed = 299792458\n",
    "mass = float(input(\"Enter Mass in Kg:\\n>>> \"))\n",
    "energy = mass*(CSpeed**2)\n",
    "print(\"E = %d kg*(m/s)2\" % energy)"
   ]
  },
  {
   "cell_type": "markdown",
   "metadata": {},
   "source": [
    "**What is Mass–energy equivalence ?**\n",
    "\n",
    "$E = mc2$ \n",
    "*It's the world's most famous equation, but what does it really mean? \"Energy equals mass times the speed of light squared.\" On the most basic level, the equation says that energy and mass (matter) are interchangeable; they are different forms of the same thing.*\n",
    "\n",
    "***You can find more interesting description about this topic in below link:***\n",
    "\n",
    "__[link To NOVA](https://www.pbs.org/wgbh/nova/einstein/lrk-hand-emc2expl.html#:~:text=E%20%3D%20mc2.,forms%20of%20the%20same%20thing.)__\n",
    "\n",
    "\"_Important Notation:_\"\n",
    "1. E or energy, which is the entirety of one side of the equation, and represents the total energy of the system.\n",
    "2. m or mass, which is related to energy by a conversion factor.\n",
    "3. c^2 which is the speed of light squared: the right factor we need to make mass and energy equivalent.\n",
    "\n",
    "\n",
    ">**Some of Interesting sentences related to this topic from great Albert Einstein:**\n",
    "* Even masses at rest have an energy inherent to them.\n",
    "* Mass can be converted into pure energy.\n",
    "* Energy can be used to make mass out of nothing... except pure energy."
   ]
  }
 ],
 "metadata": {
  "kernelspec": {
   "display_name": "Python",
   "language": "python",
   "name": "conda-env-python-py"
  },
  "language_info": {
   "codemirror_mode": {
    "name": "ipython",
    "version": 3
   },
   "file_extension": ".py",
   "mimetype": "text/x-python",
   "name": "python",
   "nbconvert_exporter": "python",
   "pygments_lexer": "ipython3",
   "version": "3.7.12"
  }
 },
 "nbformat": 4,
 "nbformat_minor": 4
}
