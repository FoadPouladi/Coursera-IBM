"My Jupyter Notebook on IBM Watson Studio"
"My Name is : **Foad Pouladi**"
I am really interested in continuous learning and working in the field of data science.
"*I am interested in data science because:Data science gives me a deep and profound view of the events around me, also makes me see the world much more interesting and attractive than before.*"
### My Code in Cell 5 will Calculate great Albert Einstein (E=mc2)
E is Energy and Calculate as: mass x speedOfLight squared ,C is Light Speed(which is in meters per second), M is Mass(Kg).
CSpeed = 299792458
mass = float(input("Enter Mass in Kg:\n>>> "))
energy = mass*(CSpeed**2)
print("E = %d kg*(m/s)2" % energy)
**What is Mass–energy equivalence ?**

$E = mc2$ 
*It's the world's most famous equation, but what does it really mean? "Energy equals mass times the speed of light squared." On the most basic level, the equation says that energy and mass (matter) are interchangeable; they are different forms of the same thing.*

***You can find more interesting description about this topic in below link:***

__[link To NOVA](https://www.pbs.org/wgbh/nova/einstein/lrk-hand-emc2expl.html#:~:text=E%20%3D%20mc2.,forms%20of%20the%20same%20thing.)__

"_Important Notation:_"
1. E or energy, which is the entirety of one side of the equation, and represents the total energy of the system.
2. m or mass, which is related to energy by a conversion factor.
3. c^2 which is the speed of light squared: the right factor we need to make mass and energy equivalent.


>**Some of Interesting sentences related to this topic from great Albert Einstein:**
* Even masses at rest have an energy inherent to them.
* Mass can be converted into pure energy.
* Energy can be used to make mass out of nothing... except pure energy.
                 
